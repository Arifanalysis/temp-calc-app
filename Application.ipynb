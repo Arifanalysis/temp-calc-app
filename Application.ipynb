{
  "nbformat": 4,
  "nbformat_minor": 0,
  "metadata": {
    "colab": {
      "provenance": [],
      "authorship_tag": "ABX9TyPlL9H2BmHYgbaAd8Otrql9",
      "include_colab_link": true
    },
    "kernelspec": {
      "name": "python3",
      "display_name": "Python 3"
    },
    "language_info": {
      "name": "python"
    }
  },
  "cells": [
    {
      "cell_type": "markdown",
      "metadata": {
        "id": "view-in-github",
        "colab_type": "text"
      },
      "source": [
        "<a href=\"https://colab.research.google.com/github/Arifanalysis/temp-calc-app/blob/main/Application.ipynb\" target=\"_parent\"><img src=\"https://colab.research.google.com/assets/colab-badge.svg\" alt=\"Open In Colab\"/></a>"
      ]
    },
    {
      "cell_type": "markdown",
      "source": [
        "** temperature converter calculator"
      ],
      "metadata": {
        "id": "M6Dz5vEZ9kOh"
      }
    },
    {
      "cell_type": "code",
      "execution_count": null,
      "metadata": {
        "colab": {
          "base_uri": "https://localhost:8080/"
        },
        "id": "z9eo-fu-9g2f",
        "outputId": "8947326b-8d2e-4838-cebe-3b19241d3c7c"
      },
      "outputs": [
        {
          "output_type": "stream",
          "name": "stdout",
          "text": [
            "Temperature Converter\n",
            "Choose the conversion:\n",
            "1. Celsius to Fahrenheit\n",
            "2. Celsius to Kelvin\n",
            "3. Fahrenheit to Celsius\n",
            "4. Fahrenheit to Kelvin\n",
            "5. Kelvin to Celsius\n",
            "6. Kelvin to Fahrenheit\n",
            "\n",
            "Enter your choice (1-6): 1\n",
            "\n",
            "Enter temperature in Celsius: 30\n",
            "30.0°C = 86.00°F\n"
          ]
        }
      ],
      "source": [
        "# Temperature Converter\n",
        "\n",
        "def celsius_to_fahrenheit(celsius):\n",
        "    return (celsius * 9/5) + 32\n",
        "\n",
        "def celsius_to_kelvin(celsius):\n",
        "    return celsius + 273.15\n",
        "\n",
        "def fahrenheit_to_celsius(fahrenheit):\n",
        "    return (fahrenheit - 32) * 5/9\n",
        "\n",
        "def fahrenheit_to_kelvin(fahrenheit):\n",
        "    return (fahrenheit - 32) * 5/9 + 273.15\n",
        "\n",
        "def kelvin_to_celsius(kelvin):\n",
        "    return kelvin - 273.15\n",
        "\n",
        "def kelvin_to_fahrenheit(kelvin):\n",
        "    return (kelvin - 273.15) * 9/5 + 32\n",
        "\n",
        "def temperature_converter():\n",
        "    print(\"Temperature Converter\")\n",
        "    print(\"Choose the conversion:\")\n",
        "    print(\"1. Celsius to Fahrenheit\")\n",
        "    print(\"2. Celsius to Kelvin\")\n",
        "    print(\"3. Fahrenheit to Celsius\")\n",
        "    print(\"4. Fahrenheit to Kelvin\")\n",
        "    print(\"5. Kelvin to Celsius\")\n",
        "    print(\"6. Kelvin to Fahrenheit\")\n",
        "\n",
        "    choice = int(input(\"\\nEnter your choice (1-6): \"))\n",
        "\n",
        "    if choice == 1:\n",
        "        celsius = float(input(\"\\nEnter temperature in Celsius: \"))\n",
        "        print(f\"{celsius}°C = {celsius_to_fahrenheit(celsius):.2f}°F\")\n",
        "    elif choice == 2:\n",
        "        celsius = float(input(\"\\nEnter temperature in Celsius: \"))\n",
        "        print(f\"{celsius}°C = {celsius_to_kelvin(celsius):.2f}K\")\n",
        "    elif choice == 3:\n",
        "        fahrenheit = float(input(\"\\nEnter temperature in Fahrenheit: \"))\n",
        "        print(f\"{fahrenheit}°F = {fahrenheit_to_celsius(fahrenheit):.2f}°C\")\n",
        "    elif choice == 4:\n",
        "        fahrenheit = float(input(\"\\nEnter temperature in Fahrenheit: \"))\n",
        "        print(f\"{fahrenheit}°F = {fahrenheit_to_kelvin(fahrenheit):.2f}K\")\n",
        "    elif choice == 5:\n",
        "        kelvin = float(input(\"\\nEnter temperature in Kelvin: \"))\n",
        "        print(f\"{kelvin}K = {kelvin_to_celsius(kelvin):.2f}°C\")\n",
        "    elif choice == 6:\n",
        "        kelvin = float(input(\"\\nEnter temperature in Kelvin: \"))\n",
        "        print(f\"{kelvin}K = {kelvin_to_fahrenheit(kelvin):.2f}°F\")\n",
        "    else:\n",
        "        print(\"Invalid choice. Please select a valid option.\")\n",
        "\n",
        "# Run the converter\n",
        "temperature_converter()\n"
      ]
    }
  ]
}